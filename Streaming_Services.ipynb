{
  "nbformat": 4,
  "nbformat_minor": 0,
  "metadata": {
    "colab": {
      "name": "Streaming Services.ipynb",
      "provenance": [],
      "collapsed_sections": []
    },
    "kernelspec": {
      "name": "python3",
      "display_name": "Python 3"
    },
    "language_info": {
      "name": "python"
    }
  },
  "cells": [
    {
      "cell_type": "code",
      "metadata": {
        "id": "d9W34LDuTbP0"
      },
      "source": [
        "#imports \n",
        "import pandas as pd\n",
        "import matplotlib.pyplot as plt"
      ],
      "execution_count": 10,
      "outputs": []
    },
    {
      "cell_type": "code",
      "metadata": {
        "colab": {
          "base_uri": "https://localhost:8080/",
          "height": 394
        },
        "id": "TdGM5Kp-TrQg",
        "outputId": "5e8c004a-5c73-499c-c0ed-03efad4f99d2"
      },
      "source": [
        "#load in dataset \n",
        "#load the dataset\n",
        "data_url = \"https://raw.githubusercontent.com/suber-mhci/tutorials/master/MoviesOnStreamingPlatforms_updated.csv\"\n",
        "df = pd.read_csv(data_url)\n",
        "df.head()"
      ],
      "execution_count": 11,
      "outputs": [
        {
          "output_type": "execute_result",
          "data": {
            "text/html": [
              "<div>\n",
              "<style scoped>\n",
              "    .dataframe tbody tr th:only-of-type {\n",
              "        vertical-align: middle;\n",
              "    }\n",
              "\n",
              "    .dataframe tbody tr th {\n",
              "        vertical-align: top;\n",
              "    }\n",
              "\n",
              "    .dataframe thead th {\n",
              "        text-align: right;\n",
              "    }\n",
              "</style>\n",
              "<table border=\"1\" class=\"dataframe\">\n",
              "  <thead>\n",
              "    <tr style=\"text-align: right;\">\n",
              "      <th></th>\n",
              "      <th>Unnamed: 0</th>\n",
              "      <th>ID</th>\n",
              "      <th>Title</th>\n",
              "      <th>Year</th>\n",
              "      <th>Age</th>\n",
              "      <th>IMDb</th>\n",
              "      <th>Rotten Tomatoes</th>\n",
              "      <th>Netflix</th>\n",
              "      <th>Hulu</th>\n",
              "      <th>Prime Video</th>\n",
              "      <th>Disney+</th>\n",
              "      <th>Type</th>\n",
              "      <th>Directors</th>\n",
              "      <th>Genres</th>\n",
              "      <th>Country</th>\n",
              "      <th>Language</th>\n",
              "      <th>Runtime</th>\n",
              "    </tr>\n",
              "  </thead>\n",
              "  <tbody>\n",
              "    <tr>\n",
              "      <th>0</th>\n",
              "      <td>0</td>\n",
              "      <td>1</td>\n",
              "      <td>The Irishman</td>\n",
              "      <td>2019</td>\n",
              "      <td>18+</td>\n",
              "      <td>7.8/10</td>\n",
              "      <td>98/100</td>\n",
              "      <td>1</td>\n",
              "      <td>0</td>\n",
              "      <td>0</td>\n",
              "      <td>0</td>\n",
              "      <td>0</td>\n",
              "      <td>Martin Scorsese</td>\n",
              "      <td>Biography,Crime,Drama</td>\n",
              "      <td>United States</td>\n",
              "      <td>English,Italian,Latin,Spanish,German</td>\n",
              "      <td>209.0</td>\n",
              "    </tr>\n",
              "    <tr>\n",
              "      <th>1</th>\n",
              "      <td>1</td>\n",
              "      <td>2</td>\n",
              "      <td>Dangal</td>\n",
              "      <td>2016</td>\n",
              "      <td>7+</td>\n",
              "      <td>8.4/10</td>\n",
              "      <td>97/100</td>\n",
              "      <td>1</td>\n",
              "      <td>0</td>\n",
              "      <td>0</td>\n",
              "      <td>0</td>\n",
              "      <td>0</td>\n",
              "      <td>Nitesh Tiwari</td>\n",
              "      <td>Action,Biography,Drama,Sport</td>\n",
              "      <td>India,United States,United Kingdom,Australia,K...</td>\n",
              "      <td>Hindi,English</td>\n",
              "      <td>161.0</td>\n",
              "    </tr>\n",
              "    <tr>\n",
              "      <th>2</th>\n",
              "      <td>2</td>\n",
              "      <td>3</td>\n",
              "      <td>David Attenborough: A Life on Our Planet</td>\n",
              "      <td>2020</td>\n",
              "      <td>7+</td>\n",
              "      <td>9.0/10</td>\n",
              "      <td>95/100</td>\n",
              "      <td>1</td>\n",
              "      <td>0</td>\n",
              "      <td>0</td>\n",
              "      <td>0</td>\n",
              "      <td>0</td>\n",
              "      <td>Alastair Fothergill,Jonathan Hughes,Keith Scholey</td>\n",
              "      <td>Documentary,Biography</td>\n",
              "      <td>United Kingdom</td>\n",
              "      <td>English</td>\n",
              "      <td>83.0</td>\n",
              "    </tr>\n",
              "    <tr>\n",
              "      <th>3</th>\n",
              "      <td>3</td>\n",
              "      <td>4</td>\n",
              "      <td>Lagaan: Once Upon a Time in India</td>\n",
              "      <td>2001</td>\n",
              "      <td>7+</td>\n",
              "      <td>8.1/10</td>\n",
              "      <td>94/100</td>\n",
              "      <td>1</td>\n",
              "      <td>0</td>\n",
              "      <td>0</td>\n",
              "      <td>0</td>\n",
              "      <td>0</td>\n",
              "      <td>Ashutosh Gowariker</td>\n",
              "      <td>Drama,Musical,Sport</td>\n",
              "      <td>India,United Kingdom</td>\n",
              "      <td>Hindi,English</td>\n",
              "      <td>224.0</td>\n",
              "    </tr>\n",
              "    <tr>\n",
              "      <th>4</th>\n",
              "      <td>4</td>\n",
              "      <td>5</td>\n",
              "      <td>Roma</td>\n",
              "      <td>2018</td>\n",
              "      <td>18+</td>\n",
              "      <td>7.7/10</td>\n",
              "      <td>94/100</td>\n",
              "      <td>1</td>\n",
              "      <td>0</td>\n",
              "      <td>0</td>\n",
              "      <td>0</td>\n",
              "      <td>0</td>\n",
              "      <td>NaN</td>\n",
              "      <td>Action,Drama,History,Romance,War</td>\n",
              "      <td>United Kingdom,United States</td>\n",
              "      <td>English</td>\n",
              "      <td>52.0</td>\n",
              "    </tr>\n",
              "  </tbody>\n",
              "</table>\n",
              "</div>"
            ],
            "text/plain": [
              "   Unnamed: 0  ID  ...                              Language  Runtime\n",
              "0           0   1  ...  English,Italian,Latin,Spanish,German    209.0\n",
              "1           1   2  ...                         Hindi,English    161.0\n",
              "2           2   3  ...                               English     83.0\n",
              "3           3   4  ...                         Hindi,English    224.0\n",
              "4           4   5  ...                               English     52.0\n",
              "\n",
              "[5 rows x 17 columns]"
            ]
          },
          "metadata": {},
          "execution_count": 11
        }
      ]
    },
    {
      "cell_type": "code",
      "metadata": {
        "colab": {
          "base_uri": "https://localhost:8080/"
        },
        "id": "3zdxt-tHVye9",
        "outputId": "fc1e4d1a-5d68-406f-efea-9bbe5b4a8759"
      },
      "source": [
        "df_sample = df.drop(['Unnamed: 0', 'ID'], axis=1) \n",
        "df_year = df[\"Year\"]\n",
        "df_sample.columns"
      ],
      "execution_count": 12,
      "outputs": [
        {
          "output_type": "execute_result",
          "data": {
            "text/plain": [
              "Index(['Title', 'Year', 'Age', 'IMDb', 'Rotten Tomatoes', 'Netflix', 'Hulu',\n",
              "       'Prime Video', 'Disney+', 'Type', 'Directors', 'Genres', 'Country',\n",
              "       'Language', 'Runtime'],\n",
              "      dtype='object')"
            ]
          },
          "metadata": {},
          "execution_count": 12
        }
      ]
    },
    {
      "cell_type": "code",
      "metadata": {
        "id": "PtnX4-seV2vk"
      },
      "source": [
        "#dataset seperated by streaming service \n",
        "df_netflix = df_sample[df_sample[\"Netflix\"] == 1]\n",
        "df_hulu = df_sample[df_sample[\"Hulu\"] == 1]\n",
        "df_amazon = df_sample[df_sample[\"Prime Video\"] == 1]\n",
        "df_disney = df_sample[df_sample[\"Disney+\"] == 1]"
      ],
      "execution_count": 13,
      "outputs": []
    },
    {
      "cell_type": "code",
      "metadata": {
        "id": "bHV2UbFueoRo"
      },
      "source": [
        "#new dataframes \n",
        "df_imdb = pd.DataFrame()\n",
        "df_rt = pd.DataFrame()\n",
        "df_age = pd.DataFrame()\n",
        "df_run = pd.DataFrame()"
      ],
      "execution_count": 14,
      "outputs": []
    },
    {
      "cell_type": "code",
      "metadata": {
        "colab": {
          "base_uri": "https://localhost:8080/",
          "height": 204
        },
        "id": "4vPQy6A_TuBe",
        "outputId": "42cb3946-aa41-494a-e034-3ebab9589482"
      },
      "source": [
        "#seperate streaming services for IMDB\n",
        "df_imdb[\"Netflix\"] = df_netflix['IMDb'].str[:-3]\n",
        "df_imdb[\"Amazon Prime\"] = df_amazon['IMDb'].str[:-3]\n",
        "df_imdb[\"Disney+\"] = df_disney['IMDb'].str[:-3]\n",
        "df_imdb[\"Hulu\"] = df_hulu['IMDb'].str[:-3]\n",
        "df_imdb.head()"
      ],
      "execution_count": 15,
      "outputs": [
        {
          "output_type": "execute_result",
          "data": {
            "text/html": [
              "<div>\n",
              "<style scoped>\n",
              "    .dataframe tbody tr th:only-of-type {\n",
              "        vertical-align: middle;\n",
              "    }\n",
              "\n",
              "    .dataframe tbody tr th {\n",
              "        vertical-align: top;\n",
              "    }\n",
              "\n",
              "    .dataframe thead th {\n",
              "        text-align: right;\n",
              "    }\n",
              "</style>\n",
              "<table border=\"1\" class=\"dataframe\">\n",
              "  <thead>\n",
              "    <tr style=\"text-align: right;\">\n",
              "      <th></th>\n",
              "      <th>Netflix</th>\n",
              "      <th>Amazon Prime</th>\n",
              "      <th>Disney+</th>\n",
              "      <th>Hulu</th>\n",
              "    </tr>\n",
              "  </thead>\n",
              "  <tbody>\n",
              "    <tr>\n",
              "      <th>0</th>\n",
              "      <td>7.8</td>\n",
              "      <td>NaN</td>\n",
              "      <td>NaN</td>\n",
              "      <td>NaN</td>\n",
              "    </tr>\n",
              "    <tr>\n",
              "      <th>1</th>\n",
              "      <td>8.4</td>\n",
              "      <td>NaN</td>\n",
              "      <td>NaN</td>\n",
              "      <td>NaN</td>\n",
              "    </tr>\n",
              "    <tr>\n",
              "      <th>2</th>\n",
              "      <td>9.0</td>\n",
              "      <td>NaN</td>\n",
              "      <td>NaN</td>\n",
              "      <td>NaN</td>\n",
              "    </tr>\n",
              "    <tr>\n",
              "      <th>3</th>\n",
              "      <td>8.1</td>\n",
              "      <td>NaN</td>\n",
              "      <td>NaN</td>\n",
              "      <td>NaN</td>\n",
              "    </tr>\n",
              "    <tr>\n",
              "      <th>4</th>\n",
              "      <td>7.7</td>\n",
              "      <td>NaN</td>\n",
              "      <td>NaN</td>\n",
              "      <td>NaN</td>\n",
              "    </tr>\n",
              "  </tbody>\n",
              "</table>\n",
              "</div>"
            ],
            "text/plain": [
              "  Netflix Amazon Prime Disney+ Hulu\n",
              "0     7.8          NaN     NaN  NaN\n",
              "1     8.4          NaN     NaN  NaN\n",
              "2     9.0          NaN     NaN  NaN\n",
              "3     8.1          NaN     NaN  NaN\n",
              "4     7.7          NaN     NaN  NaN"
            ]
          },
          "metadata": {},
          "execution_count": 15
        }
      ]
    },
    {
      "cell_type": "code",
      "metadata": {
        "colab": {
          "base_uri": "https://localhost:8080/",
          "height": 204
        },
        "id": "-ZHZn03NT5SH",
        "outputId": "fc38376a-dd51-41fd-bce2-33547efc7642"
      },
      "source": [
        "#seperate streaming services for Rotten Tomatoes \n",
        "df_rt[\"Netflix\"] = df_netflix['Rotten Tomatoes'].str[:-4]\n",
        "df_rt[\"Amazon Prime\"] = df_amazon['Rotten Tomatoes'].str[:-4]\n",
        "df_rt[\"Disney+\"] = df_disney['Rotten Tomatoes'].str[:-4]\n",
        "df_rt[\"Hulu\"] = df_hulu['Rotten Tomatoes'].str[:-4] \n",
        "df_rt.head()"
      ],
      "execution_count": 16,
      "outputs": [
        {
          "output_type": "execute_result",
          "data": {
            "text/html": [
              "<div>\n",
              "<style scoped>\n",
              "    .dataframe tbody tr th:only-of-type {\n",
              "        vertical-align: middle;\n",
              "    }\n",
              "\n",
              "    .dataframe tbody tr th {\n",
              "        vertical-align: top;\n",
              "    }\n",
              "\n",
              "    .dataframe thead th {\n",
              "        text-align: right;\n",
              "    }\n",
              "</style>\n",
              "<table border=\"1\" class=\"dataframe\">\n",
              "  <thead>\n",
              "    <tr style=\"text-align: right;\">\n",
              "      <th></th>\n",
              "      <th>Netflix</th>\n",
              "      <th>Amazon Prime</th>\n",
              "      <th>Disney+</th>\n",
              "      <th>Hulu</th>\n",
              "    </tr>\n",
              "  </thead>\n",
              "  <tbody>\n",
              "    <tr>\n",
              "      <th>0</th>\n",
              "      <td>98</td>\n",
              "      <td>NaN</td>\n",
              "      <td>NaN</td>\n",
              "      <td>NaN</td>\n",
              "    </tr>\n",
              "    <tr>\n",
              "      <th>1</th>\n",
              "      <td>97</td>\n",
              "      <td>NaN</td>\n",
              "      <td>NaN</td>\n",
              "      <td>NaN</td>\n",
              "    </tr>\n",
              "    <tr>\n",
              "      <th>2</th>\n",
              "      <td>95</td>\n",
              "      <td>NaN</td>\n",
              "      <td>NaN</td>\n",
              "      <td>NaN</td>\n",
              "    </tr>\n",
              "    <tr>\n",
              "      <th>3</th>\n",
              "      <td>94</td>\n",
              "      <td>NaN</td>\n",
              "      <td>NaN</td>\n",
              "      <td>NaN</td>\n",
              "    </tr>\n",
              "    <tr>\n",
              "      <th>4</th>\n",
              "      <td>94</td>\n",
              "      <td>NaN</td>\n",
              "      <td>NaN</td>\n",
              "      <td>NaN</td>\n",
              "    </tr>\n",
              "  </tbody>\n",
              "</table>\n",
              "</div>"
            ],
            "text/plain": [
              "  Netflix Amazon Prime Disney+ Hulu\n",
              "0      98          NaN     NaN  NaN\n",
              "1      97          NaN     NaN  NaN\n",
              "2      95          NaN     NaN  NaN\n",
              "3      94          NaN     NaN  NaN\n",
              "4      94          NaN     NaN  NaN"
            ]
          },
          "metadata": {},
          "execution_count": 16
        }
      ]
    },
    {
      "cell_type": "code",
      "metadata": {
        "colab": {
          "base_uri": "https://localhost:8080/",
          "height": 204
        },
        "id": "Pwln3GCiT8x8",
        "outputId": "138c35ee-d906-4d96-e563-7fc562a8fd1f"
      },
      "source": [
        "#seperate streaming services for Target Ages  \n",
        "df_age[\"Netflix\"] = df_netflix['Age'].str[:-1]\n",
        "df_age[\"Amazon Prime\"] = df_amazon['Age'].str[:-1]\n",
        "df_age[\"Disney+\"] = df_disney['Age'].str[:-1]\n",
        "df_age[\"Hulu\"] = df_hulu['Age'].str[:-1] \n",
        "df_age.head()"
      ],
      "execution_count": 17,
      "outputs": [
        {
          "output_type": "execute_result",
          "data": {
            "text/html": [
              "<div>\n",
              "<style scoped>\n",
              "    .dataframe tbody tr th:only-of-type {\n",
              "        vertical-align: middle;\n",
              "    }\n",
              "\n",
              "    .dataframe tbody tr th {\n",
              "        vertical-align: top;\n",
              "    }\n",
              "\n",
              "    .dataframe thead th {\n",
              "        text-align: right;\n",
              "    }\n",
              "</style>\n",
              "<table border=\"1\" class=\"dataframe\">\n",
              "  <thead>\n",
              "    <tr style=\"text-align: right;\">\n",
              "      <th></th>\n",
              "      <th>Netflix</th>\n",
              "      <th>Amazon Prime</th>\n",
              "      <th>Disney+</th>\n",
              "      <th>Hulu</th>\n",
              "    </tr>\n",
              "  </thead>\n",
              "  <tbody>\n",
              "    <tr>\n",
              "      <th>0</th>\n",
              "      <td>18</td>\n",
              "      <td>NaN</td>\n",
              "      <td>NaN</td>\n",
              "      <td>NaN</td>\n",
              "    </tr>\n",
              "    <tr>\n",
              "      <th>1</th>\n",
              "      <td>7</td>\n",
              "      <td>NaN</td>\n",
              "      <td>NaN</td>\n",
              "      <td>NaN</td>\n",
              "    </tr>\n",
              "    <tr>\n",
              "      <th>2</th>\n",
              "      <td>7</td>\n",
              "      <td>NaN</td>\n",
              "      <td>NaN</td>\n",
              "      <td>NaN</td>\n",
              "    </tr>\n",
              "    <tr>\n",
              "      <th>3</th>\n",
              "      <td>7</td>\n",
              "      <td>NaN</td>\n",
              "      <td>NaN</td>\n",
              "      <td>NaN</td>\n",
              "    </tr>\n",
              "    <tr>\n",
              "      <th>4</th>\n",
              "      <td>18</td>\n",
              "      <td>NaN</td>\n",
              "      <td>NaN</td>\n",
              "      <td>NaN</td>\n",
              "    </tr>\n",
              "  </tbody>\n",
              "</table>\n",
              "</div>"
            ],
            "text/plain": [
              "  Netflix Amazon Prime Disney+ Hulu\n",
              "0      18          NaN     NaN  NaN\n",
              "1       7          NaN     NaN  NaN\n",
              "2       7          NaN     NaN  NaN\n",
              "3       7          NaN     NaN  NaN\n",
              "4      18          NaN     NaN  NaN"
            ]
          },
          "metadata": {},
          "execution_count": 17
        }
      ]
    },
    {
      "cell_type": "code",
      "metadata": {
        "colab": {
          "base_uri": "https://localhost:8080/",
          "height": 204
        },
        "id": "fW42tzWDIFu2",
        "outputId": "274e6c5e-f32e-4fe4-c405-3800c959f9c0"
      },
      "source": [
        "#seperate streaming services for runtime\n",
        "#seperate streaming services for Target Ages  \n",
        "df_run[\"Netflix\"] = df_netflix['Runtime']\n",
        "df_run[\"Amazon Prime\"] = df_amazon['Runtime']\n",
        "df_run[\"Disney+\"] = df_disney['Runtime']\n",
        "df_run[\"Hulu\"] = df_hulu['Runtime']\n",
        "df_run.head()"
      ],
      "execution_count": 18,
      "outputs": [
        {
          "output_type": "execute_result",
          "data": {
            "text/html": [
              "<div>\n",
              "<style scoped>\n",
              "    .dataframe tbody tr th:only-of-type {\n",
              "        vertical-align: middle;\n",
              "    }\n",
              "\n",
              "    .dataframe tbody tr th {\n",
              "        vertical-align: top;\n",
              "    }\n",
              "\n",
              "    .dataframe thead th {\n",
              "        text-align: right;\n",
              "    }\n",
              "</style>\n",
              "<table border=\"1\" class=\"dataframe\">\n",
              "  <thead>\n",
              "    <tr style=\"text-align: right;\">\n",
              "      <th></th>\n",
              "      <th>Netflix</th>\n",
              "      <th>Amazon Prime</th>\n",
              "      <th>Disney+</th>\n",
              "      <th>Hulu</th>\n",
              "    </tr>\n",
              "  </thead>\n",
              "  <tbody>\n",
              "    <tr>\n",
              "      <th>0</th>\n",
              "      <td>209.0</td>\n",
              "      <td>NaN</td>\n",
              "      <td>NaN</td>\n",
              "      <td>NaN</td>\n",
              "    </tr>\n",
              "    <tr>\n",
              "      <th>1</th>\n",
              "      <td>161.0</td>\n",
              "      <td>NaN</td>\n",
              "      <td>NaN</td>\n",
              "      <td>NaN</td>\n",
              "    </tr>\n",
              "    <tr>\n",
              "      <th>2</th>\n",
              "      <td>83.0</td>\n",
              "      <td>NaN</td>\n",
              "      <td>NaN</td>\n",
              "      <td>NaN</td>\n",
              "    </tr>\n",
              "    <tr>\n",
              "      <th>3</th>\n",
              "      <td>224.0</td>\n",
              "      <td>NaN</td>\n",
              "      <td>NaN</td>\n",
              "      <td>NaN</td>\n",
              "    </tr>\n",
              "    <tr>\n",
              "      <th>4</th>\n",
              "      <td>52.0</td>\n",
              "      <td>NaN</td>\n",
              "      <td>NaN</td>\n",
              "      <td>NaN</td>\n",
              "    </tr>\n",
              "  </tbody>\n",
              "</table>\n",
              "</div>"
            ],
            "text/plain": [
              "   Netflix  Amazon Prime  Disney+  Hulu\n",
              "0    209.0           NaN      NaN   NaN\n",
              "1    161.0           NaN      NaN   NaN\n",
              "2     83.0           NaN      NaN   NaN\n",
              "3    224.0           NaN      NaN   NaN\n",
              "4     52.0           NaN      NaN   NaN"
            ]
          },
          "metadata": {},
          "execution_count": 18
        }
      ]
    },
    {
      "cell_type": "code",
      "metadata": {
        "id": "szCnM2gjfN2W"
      },
      "source": [
        "#add the years column to the dataframes\n",
        "df_imdb.insert(loc=0, column='Year', value=df_year)\n",
        "df_rt.insert(loc=0, column='Year', value=df_year)\n",
        "df_age.insert(loc=0, column='Year', value=df_year)\n",
        "df_run.insert(loc=0, column='Year', value=df_year)"
      ],
      "execution_count": 19,
      "outputs": []
    },
    {
      "cell_type": "code",
      "metadata": {
        "colab": {
          "base_uri": "https://localhost:8080/"
        },
        "id": "jWmpmlfdUGW2",
        "outputId": "dee2342a-3e74-4751-a8bb-fd14ca0a6ebf"
      },
      "source": [
        "#save csv \n",
        "from google.colab import drive\n",
        "drive.mount('drive')"
      ],
      "execution_count": 20,
      "outputs": [
        {
          "output_type": "stream",
          "name": "stdout",
          "text": [
            "Mounted at drive\n"
          ]
        }
      ]
    },
    {
      "cell_type": "code",
      "metadata": {
        "id": "7myip5C0hzSZ"
      },
      "source": [
        "df_imdb.to_csv('imdb_data.csv', index=False)\n",
        "!cp imdb_data.csv \"drive/My Drive/\"\n",
        "\n",
        "df_rt.to_csv('rt_data.csv', index=False)\n",
        "!cp rt_data.csv \"drive/My Drive/\"\n",
        "\n",
        "df_age.to_csv('age_data.csv', index=False)\n",
        "!cp age_data.csv \"drive/My Drive/\"\n",
        "\n",
        "df_run.to_csv('runtime_data.csv', index=False)\n",
        "!cp runtime_data.csv \"drive/My Drive/\""
      ],
      "execution_count": 21,
      "outputs": []
    }
  ]
}